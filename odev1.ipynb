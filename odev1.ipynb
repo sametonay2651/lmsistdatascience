{
 "cells": [
  {
   "cell_type": "code",
   "execution_count": null,
   "id": "688f04bc",
   "metadata": {},
   "outputs": [],
   "source": [
    "import random\n",
    "import pandas as pd\n",
    "import numpy as np"
   ]
  },
  {
   "cell_type": "markdown",
   "id": "8cf61385",
   "metadata": {},
   "source": [
    "555-xxx-xxxx olacak.\n",
    "\n",
    "İlk 555 mecbur sonra – işareti devamındaki 3 numara alan kodu alan kodumuz 1 den başlayıp 3 kadar gidebilecek.\n",
    "\n",
    "111 de olabilir 333 de 112 de 321 de bütün ihtimaller.\n",
    "\n",
    "Sonraki 4 numara 0 dan başlayıp 9 dahil bütün ihtimaller olacak.\n",
    "\n",
    "0000 dan 9999 kadar.\n",
    "\n",
    "Örnek çıktımız\n",
    "\n",
    "555-111-0000\n",
    "\n",
    "555-111-0001 … gibi olacak. Ekrana 50 ttane basabilmemiz yeterli. Ödev yapılıp kodu lms yüklenecek."
   ]
  },
  {
   "cell_type": "code",
   "execution_count": null,
   "id": "789e7424",
   "metadata": {},
   "outputs": [],
   "source": [
    "a=random.randint(1,8)\n",
    "print(a)"
   ]
  },
  {
   "cell_type": "code",
   "execution_count": null,
   "id": "152d786a",
   "metadata": {},
   "outputs": [],
   "source": [
    "a=random.randint(1,3)\n",
    "print(a)"
   ]
  },
  {
   "cell_type": "code",
   "execution_count": null,
   "id": "1d2dfe63",
   "metadata": {},
   "outputs": [],
   "source": [
    "b=random.randint(1,3)\n",
    "print(b)"
   ]
  },
  {
   "cell_type": "code",
   "execution_count": null,
   "id": "0d4fe69b",
   "metadata": {},
   "outputs": [],
   "source": [
    "c=random.randint(1,3)\n",
    "print(c)"
   ]
  },
  {
   "cell_type": "code",
   "execution_count": null,
   "id": "eb09ed54",
   "metadata": {},
   "outputs": [],
   "source": [
    "print(type(abc))"
   ]
  },
  {
   "cell_type": "code",
   "execution_count": null,
   "id": "72038980",
   "metadata": {},
   "outputs": [],
   "source": [
    "defg=random.randint(0000,9999)\n",
    "print(defg)"
   ]
  },
  {
   "cell_type": "code",
   "execution_count": null,
   "id": "d0fd7e10",
   "metadata": {},
   "outputs": [],
   "source": [
    "telno=\"555\"+\"-\"+str(a)+str(b)+str(c)+\"-\"+str(defg)\n",
    "telno"
   ]
  },
  {
   "cell_type": "code",
   "execution_count": null,
   "id": "88c0eec0",
   "metadata": {},
   "outputs": [],
   "source": [
    "list=[0,1,2,3,4,5]"
   ]
  },
  {
   "cell_type": "code",
   "execution_count": null,
   "id": "e1ec571e",
   "metadata": {},
   "outputs": [],
   "source": [
    "for mesut in range(5):\n",
    "    print(mesut)"
   ]
  },
  {
   "cell_type": "code",
   "execution_count": null,
   "id": "21792713",
   "metadata": {},
   "outputs": [],
   "source": [
    "str(random.randint()).zfill"
   ]
  },
  {
   "cell_type": "code",
   "execution_count": 1,
   "id": "03c9f567",
   "metadata": {},
   "outputs": [],
   "source": [
    "import random\n",
    "\n",
    "phone_number_list = []\n",
    "\n",
    "#We create our random number list in 532-eee-ssss format.\n",
    "#We put 0 in front of random numbers with .zfill().\n",
    "    \n",
    "def create_phone_number():\n",
    "\n",
    "    first = str(532)\n",
    "    second = str(random.randint(1, 1000)).zfill(3)\n",
    "    last = str(random.randint(1, 10000)).zfill(4)\n",
    "\n",
    "    return ('{}-{}-{}'.format(first, second, last))\n",
    "\n",
    "#It will add 'n' phone numbers to the function.\n",
    "\n",
    "for i in range(0, 10000000):\n",
    "    phone_number_list.append(create_phone_number())"
   ]
  },
  {
   "cell_type": "code",
   "execution_count": null,
   "id": "4730959a",
   "metadata": {},
   "outputs": [],
   "source": [
    "batch vs stream\n",
    "    \n",
    "\n",
    "    "
   ]
  },
  {
   "cell_type": "code",
   "execution_count": 5,
   "id": "71b1df18",
   "metadata": {},
   "outputs": [
    {
     "name": "stdout",
     "output_type": "stream",
     "text": [
      "555-321-9178\n",
      "555-331-2710\n",
      "555-321-8178\n",
      "555-121-3884\n",
      "555-211-5827\n",
      "555-311-1248\n",
      "555-122-8530\n",
      "555-222-6109\n",
      "555-233-9047\n",
      "555-323-9093\n",
      "555-231-8580\n",
      "555-132-3024\n",
      "555-321-7652\n",
      "555-112-1956\n",
      "555-212-6032\n",
      "555-232-9325\n",
      "555-133-5839\n",
      "555-132-4669\n",
      "555-233-7036\n",
      "555-312-4473\n",
      "555-232-5111\n",
      "555-332-9023\n",
      "555-313-4809\n",
      "555-231-1129\n",
      "555-213-4086\n",
      "555-323-9644\n",
      "555-333-3035\n",
      "555-132-6726\n",
      "555-313-8316\n",
      "555-311-5309\n",
      "555-132-7520\n",
      "555-212-6730\n",
      "555-131-8000\n",
      "555-213-8838\n",
      "555-133-9628\n",
      "555-332-2183\n",
      "555-312-1453\n",
      "555-112-8523\n",
      "555-122-5386\n",
      "555-222-5340\n",
      "555-312-5876\n",
      "555-313-6724\n",
      "555-222-4645\n",
      "555-133-8666\n",
      "555-132-5442\n",
      "555-231-1496\n",
      "555-211-9393\n",
      "555-132-4277\n",
      "555-211-9463\n",
      "555-312-9241\n"
     ]
    }
   ],
   "source": [
    "import random\n",
    "def telefon_numarasi():\n",
    "    a=str(random.randint(1,3))\n",
    "    b=str(random.randint(1,3))\n",
    "    c=str(random.randint(1,3))\n",
    "    defg=str(random.randint(1111,9999))\n",
    "    return \"555\"+\"-\"+a+b+c+\"-\"+defg\n",
    "for i in range(50):\n",
    "    print(telefon_numarasi())"
   ]
  },
  {
   "cell_type": "code",
   "execution_count": 4,
   "id": "28b2fe45",
   "metadata": {},
   "outputs": [
    {
     "ename": "NameError",
     "evalue": "name 'abc' is not defined",
     "output_type": "error",
     "traceback": [
      "\u001b[1;31m---------------------------------------------------------------------------\u001b[0m",
      "\u001b[1;31mNameError\u001b[0m                                 Traceback (most recent call last)",
      "\u001b[1;32mC:\\Users\\ABDULS~1.ONA\\AppData\\Local\\Temp/ipykernel_2764/3599524605.py\u001b[0m in \u001b[0;36m<module>\u001b[1;34m\u001b[0m\n\u001b[1;32m----> 1\u001b[1;33m \u001b[0mtelefon_numarası\u001b[0m\u001b[1;33m=\u001b[0m\u001b[1;34m\"555\"\u001b[0m\u001b[1;33m-\u001b[0m\u001b[0mabc\u001b[0m\u001b[1;33m-\u001b[0m\u001b[0mdefg\u001b[0m\u001b[1;33m\u001b[0m\u001b[1;33m\u001b[0m\u001b[0m\n\u001b[0m\u001b[0;32m      2\u001b[0m \u001b[0mabc\u001b[0m\u001b[1;33m=\u001b[0m\u001b[0mstr\u001b[0m\u001b[1;33m(\u001b[0m\u001b[0mrandom\u001b[0m\u001b[1;33m.\u001b[0m\u001b[0mrandint\u001b[0m\u001b[1;33m(\u001b[0m\u001b[1;36m111\u001b[0m\u001b[1;33m,\u001b[0m\u001b[1;36m333\u001b[0m\u001b[1;33m)\u001b[0m\u001b[1;33m)\u001b[0m\u001b[1;33m\u001b[0m\u001b[1;33m\u001b[0m\u001b[0m\n\u001b[0;32m      3\u001b[0m \u001b[0mdefg\u001b[0m\u001b[1;33m=\u001b[0m\u001b[0mstr\u001b[0m\u001b[1;33m(\u001b[0m\u001b[0mrandom\u001b[0m\u001b[1;33m.\u001b[0m\u001b[0mrandint\u001b[0m\u001b[1;33m(\u001b[0m\u001b[1;36m0000\u001b[0m\u001b[1;33m,\u001b[0m\u001b[1;36m9999\u001b[0m\u001b[1;33m)\u001b[0m\u001b[1;33m)\u001b[0m\u001b[1;33m\u001b[0m\u001b[1;33m\u001b[0m\u001b[0m\n\u001b[0;32m      4\u001b[0m \u001b[0mprint\u001b[0m\u001b[1;33m(\u001b[0m\u001b[0mtelefon_numarası\u001b[0m\u001b[1;33m)\u001b[0m\u001b[1;33m\u001b[0m\u001b[1;33m\u001b[0m\u001b[0m\n",
      "\u001b[1;31mNameError\u001b[0m: name 'abc' is not defined"
     ]
    }
   ],
   "source": [
    "telefon_numarası=\"555\"-abc-defg\n",
    "abc=str(random.randint(111,333))\n",
    "defg=str(random.randint(0000,9999))\n",
    "print(telefon_numarası)"
   ]
  },
  {
   "cell_type": "code",
   "execution_count": null,
   "id": "f0e72c0a",
   "metadata": {},
   "outputs": [],
   "source": [
    "abc=random.randint(111,333)\n",
    "print(abc)"
   ]
  },
  {
   "cell_type": "code",
   "execution_count": null,
   "id": "dee5f2dc",
   "metadata": {},
   "outputs": [],
   "source": [
    "str(random.randint(111,333))"
   ]
  },
  {
   "cell_type": "code",
   "execution_count": null,
   "id": "5bff253e",
   "metadata": {},
   "outputs": [],
   "source": [
    "str(random.randint(0000,9999))"
   ]
  },
  {
   "cell_type": "code",
   "execution_count": null,
   "id": "0535001b",
   "metadata": {},
   "outputs": [],
   "source": [
    "import random\n",
    "def telefon_numarasi():\n",
    "    ilk = str(555)\n",
    "    abc = str(random.randint(111, 333))\n",
    "    defg = str(random.randint(1111, 9999))\n",
    "    return '{}-{}-{}'.format(ilk, abc, defg)\n",
    "for i in range(1):\n",
    "    print telefon_numarasi()\n"
   ]
  },
  {
   "cell_type": "code",
   "execution_count": null,
   "id": "f841a216",
   "metadata": {},
   "outputs": [],
   "source": [
    "first = str(555)\n",
    "first"
   ]
  },
  {
   "cell_type": "code",
   "execution_count": null,
   "id": "1847f33e",
   "metadata": {},
   "outputs": [],
   "source": [
    "abc = str(random.randint(111, 333))\n",
    "abc"
   ]
  },
  {
   "cell_type": "code",
   "execution_count": null,
   "id": "ba3d9089",
   "metadata": {},
   "outputs": [],
   "source": [
    "ilk = str(555)\n",
    "ilk"
   ]
  },
  {
   "cell_type": "code",
   "execution_count": null,
   "id": "44b662d6",
   "metadata": {},
   "outputs": [],
   "source": [
    "defg = str(random.randint(1111, 9999))\n",
    "defg"
   ]
  },
  {
   "cell_type": "code",
   "execution_count": null,
   "id": "2fb24524",
   "metadata": {},
   "outputs": [],
   "source": []
  },
  {
   "cell_type": "code",
   "execution_count": null,
   "id": "02169936",
   "metadata": {},
   "outputs": [],
   "source": []
  },
  {
   "cell_type": "code",
   "execution_count": null,
   "id": "e8baa1a7",
   "metadata": {},
   "outputs": [],
   "source": [
    "import random\n",
    "def makePhone():\n",
    "    first = str(random.randint(100,999))\n",
    "    second = str(random.randint(111,888))\n",
    "    last = str(random.randint(1111,8888))\n",
    "    makePhone=first+\"-\"+second+\"-\"+last\n",
    "    return #'{}-{}-{}'.format(first, second, last)\n",
    "for i in range(1):\n",
    "    print(makePhone())\n"
   ]
  },
  {
   "cell_type": "code",
   "execution_count": null,
   "id": "159ac1be",
   "metadata": {},
   "outputs": [],
   "source": [
    "first = str(555)\n",
    "second = str(random.randint(111,888))\n",
    "last = str(random.randint(1111,8888))\n",
    "telefon='{3}-{3}-{4}'.format(first,second,last)"
   ]
  },
  {
   "cell_type": "code",
   "execution_count": null,
   "id": "8d49e3fb",
   "metadata": {},
   "outputs": [],
   "source": [
    "first = str(555)\n",
    "second = str(random.randint(111,888))\n",
    "last = str(random.randint(1111,8888))\n",
    "print(first,\"-\",second,\"-\",last)"
   ]
  },
  {
   "cell_type": "code",
   "execution_count": null,
   "id": "930033e4",
   "metadata": {},
   "outputs": [],
   "source": [
    "import random\n",
    "def random_phone_num_generator():\n",
    "    first = str(random.randint(100, 999))\n",
    "    second = str(random.randint(1, 888)).zfill(3)\n",
    "    last = (str(random.randint(1, 9998)).zfill(4))\n",
    "    \n",
    "    return '{}-{}-{}'.format(first, second, last)\n",
    "\n",
    "for i in range(1):\n",
    "    print(random_phone_num_generator())"
   ]
  },
  {
   "cell_type": "code",
   "execution_count": null,
   "id": "00aa2f03",
   "metadata": {},
   "outputs": [],
   "source": [
    "abc = str(random.randint(111,333))\n",
    "defg = str(random.randint(1111,9999))\n",
    "makePhone=\"555\"+\"-\"+abc+\"-\"+defg"
   ]
  },
  {
   "cell_type": "code",
   "execution_count": null,
   "id": "83646686",
   "metadata": {},
   "outputs": [],
   "source": [
    "makePhone"
   ]
  },
  {
   "cell_type": "code",
   "execution_count": null,
   "id": "b03547bf",
   "metadata": {},
   "outputs": [],
   "source": [
    "import random\n",
    "def telefon_numarasi():\n",
    "    a=str(random.randint(1,3))\n",
    "    b=str(random.randint(1,3))\n",
    "    c=str(random.randint(1,3))\n",
    "    defg=str(random.randint(1111,9999))\n",
    "    return \"555\"+\"-\"+a+b+c+\"-\"+defg\n",
    "for i in range(50):\n",
    "    print(telefon_numarasi())"
   ]
  },
  {
   "cell_type": "code",
   "execution_count": null,
   "id": "3219d6fa",
   "metadata": {},
   "outputs": [],
   "source": []
  },
  {
   "cell_type": "code",
   "execution_count": null,
   "id": "34fd8933",
   "metadata": {},
   "outputs": [],
   "source": []
  }
 ],
 "metadata": {
  "kernelspec": {
   "display_name": "Python 3 (ipykernel)",
   "language": "python",
   "name": "python3"
  },
  "language_info": {
   "codemirror_mode": {
    "name": "ipython",
    "version": 3
   },
   "file_extension": ".py",
   "mimetype": "text/x-python",
   "name": "python",
   "nbconvert_exporter": "python",
   "pygments_lexer": "ipython3",
   "version": "3.9.7"
  }
 },
 "nbformat": 4,
 "nbformat_minor": 5
}
