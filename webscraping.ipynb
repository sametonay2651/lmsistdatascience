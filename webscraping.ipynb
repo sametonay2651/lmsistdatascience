{
 "cells": [
  {
   "cell_type": "code",
   "execution_count": 13,
   "id": "ca3a8cdf",
   "metadata": {},
   "outputs": [],
   "source": [
    "from bs4 import BeautifulSoup as bts\n",
    "import requests"
   ]
  },
  {
   "cell_type": "code",
   "execution_count": 15,
   "id": "ad6902b0",
   "metadata": {},
   "outputs": [
    {
     "name": "stderr",
     "output_type": "stream",
     "text": [
      "C:\\Users\\abdulsamet.onay\\Anaconda3\\lib\\site-packages\\urllib3\\connectionpool.py:1013: InsecureRequestWarning: Unverified HTTPS request is being made to host 'www.trendyol.com'. Adding certificate verification is strongly advised. See: https://urllib3.readthedocs.io/en/1.26.x/advanced-usage.html#ssl-warnings\n",
      "  warnings.warn(\n"
     ]
    }
   ],
   "source": [
    "result=requests.get(\"https://www.trendyol.com/apple-cep-telefonu-x-b101470-c103498\",headers={\"User-Agent\":\"Mozilla/5.0\"},verify=False)"
   ]
  },
  {
   "cell_type": "code",
   "execution_count": 17,
   "id": "0b8f1e08",
   "metadata": {},
   "outputs": [],
   "source": [
    "soup=bts(result.text,\"html.parser\")"
   ]
  },
  {
   "cell_type": "code",
   "execution_count": 19,
   "id": "499c4a2b",
   "metadata": {},
   "outputs": [
    {
     "data": {
      "text/plain": [
       "<span class=\"prdct-desc-cntnr-name hasRatings\" title=\"iPhone 11 64 GB Kırmızı Cep Telefonu Aksesuarsız Kutu (Apple Türkiye Garantili)\">iPhone 11 64 GB Kırmızı Cep Telefonu Aksesuarsız Kutu (Apple Türkiye Garantili)</span>"
      ]
     },
     "execution_count": 19,
     "metadata": {},
     "output_type": "execute_result"
    }
   ],
   "source": [
    "soup.find(\"span\",{\"class\":\"prdct-desc-cntnr-name hasRatings\"})"
   ]
  },
  {
   "cell_type": "code",
   "execution_count": 18,
   "id": "d9ada47e",
   "metadata": {},
   "outputs": [
    {
     "data": {
      "text/plain": [
       "'iPhone 11 64 GB Kırmızı Cep Telefonu Aksesuarsız Kutu (Apple Türkiye Garantili)'"
      ]
     },
     "execution_count": 18,
     "metadata": {},
     "output_type": "execute_result"
    }
   ],
   "source": [
    "soup.find(\"span\",{\"class\":\"prdct-desc-cntnr-name hasRatings\"}).text"
   ]
  },
  {
   "cell_type": "code",
   "execution_count": 20,
   "id": "e630383a",
   "metadata": {},
   "outputs": [
    {
     "data": {
      "text/plain": [
       "'iPhone 11 64 GB Kırmızı Cep Telefonu Aksesuarsız Kutu (Apple Türkiye Garantili)'"
      ]
     },
     "execution_count": 20,
     "metadata": {},
     "output_type": "execute_result"
    }
   ],
   "source": [
    "soup.find(\"span\",{\"class\":\"prdct-desc-cntnr-name hasRatings\"})[\"title\"]"
   ]
  },
  {
   "cell_type": "code",
   "execution_count": 23,
   "id": "737fdf5a",
   "metadata": {},
   "outputs": [
    {
     "data": {
      "text/plain": [
       "<div class=\"prc-box-dscntd\">14.999 TL</div>"
      ]
     },
     "execution_count": 23,
     "metadata": {},
     "output_type": "execute_result"
    }
   ],
   "source": [
    "soup.find(\"div\",{\"class\":\"prc-box-dscntd\"})"
   ]
  },
  {
   "cell_type": "code",
   "execution_count": 24,
   "id": "ffae5091",
   "metadata": {},
   "outputs": [
    {
     "data": {
      "text/plain": [
       "'14.999 TL'"
      ]
     },
     "execution_count": 24,
     "metadata": {},
     "output_type": "execute_result"
    }
   ],
   "source": [
    "soup.find(\"div\",{\"class\":\"prc-box-dscntd\"}).text"
   ]
  },
  {
   "cell_type": "code",
   "execution_count": 25,
   "id": "e026e41f",
   "metadata": {},
   "outputs": [
    {
     "data": {
      "text/plain": [
       "'14.999'"
      ]
     },
     "execution_count": 25,
     "metadata": {},
     "output_type": "execute_result"
    }
   ],
   "source": [
    "soup.find(\"div\",{\"class\":\"prc-box-dscntd\"}).text.split(\" \")[0]"
   ]
  },
  {
   "cell_type": "code",
   "execution_count": 26,
   "id": "b08bb620",
   "metadata": {},
   "outputs": [
    {
     "data": {
      "text/plain": [
       "'14999'"
      ]
     },
     "execution_count": 26,
     "metadata": {},
     "output_type": "execute_result"
    }
   ],
   "source": [
    "soup.find(\"div\",{\"class\":\"prc-box-dscntd\"}).text.split(\" \")[0].replace(\".\",\"\")"
   ]
  },
  {
   "cell_type": "code",
   "execution_count": 28,
   "id": "a00c42c9",
   "metadata": {},
   "outputs": [
    {
     "data": {
      "text/plain": [
       "14999"
      ]
     },
     "execution_count": 28,
     "metadata": {},
     "output_type": "execute_result"
    }
   ],
   "source": [
    "price=int(soup.find(\"div\",{\"class\":\"prc-box-dscntd\"}).text.split(\" \")[0].replace(\".\",\"\"))\n",
    "price"
   ]
  },
  {
   "cell_type": "code",
   "execution_count": 31,
   "id": "e35070cc",
   "metadata": {},
   "outputs": [
    {
     "data": {
      "text/plain": [
       "'(765)'"
      ]
     },
     "execution_count": 31,
     "metadata": {},
     "output_type": "execute_result"
    }
   ],
   "source": [
    "rate=soup.find(\"span\",{\"class\":\"ratingCount\"}).text\n",
    "rate"
   ]
  },
  {
   "cell_type": "code",
   "execution_count": null,
   "id": "8270294d",
   "metadata": {},
   "outputs": [],
   "source": []
  },
  {
   "cell_type": "code",
   "execution_count": 33,
   "id": "7bf4c593",
   "metadata": {},
   "outputs": [
    {
     "name": "stdout",
     "output_type": "stream",
     "text": [
      "iPhone 11 64 GB Kırmızı Cep Telefonu Aksesuarsız Kutu (Apple Türkiye Garantili)\n",
      "iPhone 13 Pro 128 GB Gümüş Cep Telefonu (Apple Türkiye Garantili)\n",
      "iPhone 13 Pro Max 128 GB Kurşun Gri Cep Telefonu (Apple Türkiye Garantili)\n",
      "iPhone 13 128 GB Mavi Cep Telefonu (Apple Türkiye Garantili)\n",
      "iPhone SE 64 GB Siyah Cep Telefonu Aksesuarsız Kutu (Apple Türkiye Garantili)\n",
      "iPhone 13 128 GB Yeşil Cep Telefonu (Apple Türkiye Garantili)\n",
      "iPhone 11 128 GB Mor Cep Telefonu Aksesuarsız Kutu (Apple Türkiye Garantili)\n",
      "iPhone 11 64 GB Mor Cep Telefonu Aksesuarsız Kutu (Apple Türkiye Garantili)\n",
      "iPhone 13 Pro Max 512 GB Mavi Cep Telefonu (Apple Türkiye Garantili)\n",
      "iPhone 11 128 GB Siyah Cep Telefonu Aksesuarsız Kutu (Apple Türkiye Garantili)\n",
      "iPhone 13 128 GB Yıldız Işığı Cep Telefonu (Apple Türkiye Garantili)\n",
      "iPhone 13 Pro 256 GB Mavi Cep Telefonu (Apple Türkiye Garantili)\n",
      "iPhone 11 64 GB Siyah Cep Telefonu Aksesuarsız Kutu (Apple Türkiye Garantili)\n",
      "iPhone 13 128 GB Gece Yarısı Cep Telefonu (Apple Türkiye Garantili)\n",
      "iPhone 12 64 GB Beyaz Cep Telefonu Aksesuarsız Kutu (Apple Türkiye Garantili)\n",
      "iPhone 13 256 GB Pembe Cep Telefonu (Apple Türkiye Garantili)\n",
      "iPhone 11 128 GB Beyaz Cep Telefonu Aksesuarsız Kutu (Apple Türkiye Garantili)\n",
      "iPhone 11 128 GB Kırmızı Cep Telefonu Aksesuarsız Kutu (Apple Türkiye Garantili)\n",
      "iPhone 13 128 GB Pembe Cep Telefonu (Apple Türkiye Garantili)\n",
      "iPhone 13 256 GB Gece Yarısı Cep Telefonu (Apple Türkiye Garantili)\n",
      "iPhone 11 128 GB Yeşil Cep Telefonu Aksesuarsız Kutu (Apple Türkiye Garantili)\n",
      "iPhone 13 128 GB Kırmızı Cep Telefonu (Apple Türkiye Garantili)\n",
      "iPhone 13 Pro 128 GB Mavi Cep Telefonu (Apple Türkiye Garantili)\n",
      "iPhone 13 Pro Max 256 GB Sierra Mavisi Cep Telefonu (Apple Türkiye Garantili)\n"
     ]
    }
   ],
   "source": [
    "for title in soup.find_all(\"span\",{\"class\":\"prdct-desc-cntnr-name hasRatings\"}):\n",
    "    print(title.text)"
   ]
  },
  {
   "cell_type": "code",
   "execution_count": 36,
   "id": "11281983",
   "metadata": {},
   "outputs": [
    {
     "name": "stdout",
     "output_type": "stream",
     "text": [
      "14999\n",
      "32499\n",
      "39150,02\n",
      "25725\n",
      "12998,99\n",
      "25531,94\n",
      "16599\n",
      "16199\n",
      "42569,01\n",
      "16499\n",
      "25396\n",
      "35918,96\n",
      "14999\n",
      "24999\n",
      "22429\n",
      "28849\n",
      "16399\n",
      "16599\n",
      "24999\n",
      "28862\n",
      "16599\n",
      "24999\n",
      "35034\n",
      "40748,40\n"
     ]
    }
   ],
   "source": [
    "for price in soup.find_all(\"div\",{\"class\":\"prc-box-dscntd\"}):\n",
    "    print(price.text.split(\" \")[0].replace(\".\",\"\"))"
   ]
  },
  {
   "cell_type": "code",
   "execution_count": 37,
   "id": "45920fb9",
   "metadata": {},
   "outputs": [
    {
     "name": "stdout",
     "output_type": "stream",
     "text": [
      "14.999 TL\n",
      "32.499 TL\n",
      "39.150,02 TL\n",
      "25.725 TL\n",
      "12.998,99 TL\n",
      "25.531,94 TL\n",
      "16.599 TL\n",
      "16.199 TL\n",
      "42.569,01 TL\n",
      "16.499 TL\n",
      "25.396 TL\n",
      "35.918,96 TL\n",
      "14.999 TL\n",
      "24.999 TL\n",
      "22.429 TL\n",
      "28.849 TL\n",
      "16.399 TL\n",
      "16.599 TL\n",
      "24.999 TL\n",
      "28.862 TL\n",
      "16.599 TL\n",
      "24.999 TL\n",
      "35.034 TL\n",
      "40.748,40 TL\n"
     ]
    }
   ],
   "source": [
    "for price in soup.find_all(\"div\",{\"class\":\"prc-box-dscntd\"}):\n",
    "    print(price.text)"
   ]
  },
  {
   "cell_type": "code",
   "execution_count": null,
   "id": "a82cbe21",
   "metadata": {},
   "outputs": [],
   "source": [
    "a=\n",
    "\n",
    "for result in requests.get(\"https://www.trendyol.com/apple-cep-telefonu-x-b101470-c103498?pi=2\",headers={\"User-Agent\":\"Mozilla/5.0\"},verify=False):\n",
    "    "
   ]
  },
  {
   "cell_type": "code",
   "execution_count": 38,
   "id": "7fd3f4f1",
   "metadata": {},
   "outputs": [],
   "source": [
    "def getAndParseURL(url):\n",
    "    result=requests.get(url,headers={\"User-Agent\":\"Mozilla/5.0\"},verify=False)\n",
    "    soup=bts(result.text,\"html.parser\")\n",
    "    return soup"
   ]
  },
  {
   "cell_type": "code",
   "execution_count": 41,
   "id": "5e8de4db",
   "metadata": {},
   "outputs": [],
   "source": [
    "link_list=[]\n",
    "for link in range(1,19):\n",
    "    link_list.append(link)"
   ]
  },
  {
   "cell_type": "code",
   "execution_count": 42,
   "id": "f49a91ec",
   "metadata": {},
   "outputs": [
    {
     "data": {
      "text/plain": [
       "[1, 2, 3, 4, 5, 6, 7, 8, 9, 10, 11, 12, 13, 14, 15, 16, 17, 18]"
      ]
     },
     "execution_count": 42,
     "metadata": {},
     "output_type": "execute_result"
    }
   ],
   "source": [
    "link_list"
   ]
  },
  {
   "cell_type": "code",
   "execution_count": 43,
   "id": "f5a2429c",
   "metadata": {},
   "outputs": [],
   "source": [
    "link_list=[]\n",
    "for link in range(1,19):\n",
    "    link_list.append(\"https://www.trendyol.com/apple-cep-telefonu-x-b101470-c103498?pi=\"+str(link))"
   ]
  },
  {
   "cell_type": "code",
   "execution_count": 44,
   "id": "6f3ce34f",
   "metadata": {},
   "outputs": [
    {
     "data": {
      "text/plain": [
       "['https://www.trendyol.com/apple-cep-telefonu-x-b101470-c103498?pi=1',\n",
       " 'https://www.trendyol.com/apple-cep-telefonu-x-b101470-c103498?pi=2',\n",
       " 'https://www.trendyol.com/apple-cep-telefonu-x-b101470-c103498?pi=3',\n",
       " 'https://www.trendyol.com/apple-cep-telefonu-x-b101470-c103498?pi=4',\n",
       " 'https://www.trendyol.com/apple-cep-telefonu-x-b101470-c103498?pi=5',\n",
       " 'https://www.trendyol.com/apple-cep-telefonu-x-b101470-c103498?pi=6',\n",
       " 'https://www.trendyol.com/apple-cep-telefonu-x-b101470-c103498?pi=7',\n",
       " 'https://www.trendyol.com/apple-cep-telefonu-x-b101470-c103498?pi=8',\n",
       " 'https://www.trendyol.com/apple-cep-telefonu-x-b101470-c103498?pi=9',\n",
       " 'https://www.trendyol.com/apple-cep-telefonu-x-b101470-c103498?pi=10',\n",
       " 'https://www.trendyol.com/apple-cep-telefonu-x-b101470-c103498?pi=11',\n",
       " 'https://www.trendyol.com/apple-cep-telefonu-x-b101470-c103498?pi=12',\n",
       " 'https://www.trendyol.com/apple-cep-telefonu-x-b101470-c103498?pi=13',\n",
       " 'https://www.trendyol.com/apple-cep-telefonu-x-b101470-c103498?pi=14',\n",
       " 'https://www.trendyol.com/apple-cep-telefonu-x-b101470-c103498?pi=15',\n",
       " 'https://www.trendyol.com/apple-cep-telefonu-x-b101470-c103498?pi=16',\n",
       " 'https://www.trendyol.com/apple-cep-telefonu-x-b101470-c103498?pi=17',\n",
       " 'https://www.trendyol.com/apple-cep-telefonu-x-b101470-c103498?pi=18']"
      ]
     },
     "execution_count": 44,
     "metadata": {},
     "output_type": "execute_result"
    }
   ],
   "source": [
    "link_list"
   ]
  },
  {
   "cell_type": "code",
   "execution_count": 53,
   "id": "59b94f42",
   "metadata": {},
   "outputs": [
    {
     "name": "stderr",
     "output_type": "stream",
     "text": [
      "C:\\Users\\abdulsamet.onay\\Anaconda3\\lib\\site-packages\\urllib3\\connectionpool.py:1013: InsecureRequestWarning: Unverified HTTPS request is being made to host 'www.trendyol.com'. Adding certificate verification is strongly advised. See: https://urllib3.readthedocs.io/en/1.26.x/advanced-usage.html#ssl-warnings\n",
      "  warnings.warn(\n"
     ]
    },
    {
     "ename": "NameError",
     "evalue": "name 'withouttitletitle' is not defined",
     "output_type": "error",
     "traceback": [
      "\u001b[1;31m---------------------------------------------------------------------------\u001b[0m",
      "\u001b[1;31mNameError\u001b[0m                                 Traceback (most recent call last)",
      "\u001b[1;32mC:\\Users\\ABDULS~1.ONA\\AppData\\Local\\Temp/ipykernel_31100/3624186171.py\u001b[0m in \u001b[0;36m<module>\u001b[1;34m\u001b[0m\n\u001b[0;32m     10\u001b[0m         \u001b[1;31m#Title.append(withtitletitle.text)\u001b[0m\u001b[1;33m\u001b[0m\u001b[1;33m\u001b[0m\u001b[0m\n\u001b[0;32m     11\u001b[0m     \u001b[1;32mfor\u001b[0m \u001b[0mwithouttitle\u001b[0m \u001b[1;32min\u001b[0m \u001b[0msoup\u001b[0m\u001b[1;33m.\u001b[0m\u001b[0mfind_all\u001b[0m\u001b[1;33m(\u001b[0m\u001b[1;34m\"span\"\u001b[0m\u001b[1;33m,\u001b[0m\u001b[1;33m{\u001b[0m\u001b[1;34m\"class\"\u001b[0m\u001b[1;33m:\u001b[0m\u001b[1;34m\"prdct-desc-cntnr-name\"\u001b[0m\u001b[1;33m}\u001b[0m\u001b[1;33m)\u001b[0m\u001b[1;33m:\u001b[0m\u001b[1;33m\u001b[0m\u001b[1;33m\u001b[0m\u001b[0m\n\u001b[1;32m---> 12\u001b[1;33m         \u001b[0mTitle\u001b[0m\u001b[1;33m.\u001b[0m\u001b[0mappend\u001b[0m\u001b[1;33m(\u001b[0m\u001b[0mwithouttitletitle\u001b[0m\u001b[1;33m.\u001b[0m\u001b[0mtext\u001b[0m\u001b[1;33m)\u001b[0m\u001b[1;33m\u001b[0m\u001b[1;33m\u001b[0m\u001b[0m\n\u001b[0m",
      "\u001b[1;31mNameError\u001b[0m: name 'withouttitletitle' is not defined"
     ]
    }
   ],
   "source": [
    "Title=[]\n",
    "Price=[]\n",
    "Rating=[]\n",
    "\n",
    "for products in link_list:\n",
    "    soup = getAndParseURL(products)\n",
    "    \n",
    "    #get title\n",
    "    #for withtitle in soup.find_all(\"span\",{\"class\":\"prdct-desc-cntnr-name hasRatings\"}):\n",
    "        #Title.append(withtitletitle.text)\n",
    "    for withouttitle in soup.find_all(\"span\",{\"class\":\"prdct-desc-cntnr-name\"}):\n",
    "        Title.append(withouttitletitle.text)"
   ]
  },
  {
   "cell_type": "code",
   "execution_count": 56,
   "id": "8f2e4ba4",
   "metadata": {},
   "outputs": [
    {
     "data": {
      "text/plain": [
       "430"
      ]
     },
     "execution_count": 56,
     "metadata": {},
     "output_type": "execute_result"
    }
   ],
   "source": [
    "len(Title)"
   ]
  },
  {
   "cell_type": "code",
   "execution_count": 52,
   "id": "4d3d3f41",
   "metadata": {},
   "outputs": [
    {
     "data": {
      "text/plain": [
       "67"
      ]
     },
     "execution_count": 52,
     "metadata": {},
     "output_type": "execute_result"
    }
   ],
   "source": [
    "len(products)"
   ]
  },
  {
   "cell_type": "code",
   "execution_count": 57,
   "id": "6da3379a",
   "metadata": {},
   "outputs": [
    {
     "name": "stderr",
     "output_type": "stream",
     "text": [
      "C:\\Users\\abdulsamet.onay\\Anaconda3\\lib\\site-packages\\urllib3\\connectionpool.py:1013: InsecureRequestWarning: Unverified HTTPS request is being made to host 'www.trendyol.com'. Adding certificate verification is strongly advised. See: https://urllib3.readthedocs.io/en/1.26.x/advanced-usage.html#ssl-warnings\n",
      "  warnings.warn(\n",
      "C:\\Users\\abdulsamet.onay\\Anaconda3\\lib\\site-packages\\urllib3\\connectionpool.py:1013: InsecureRequestWarning: Unverified HTTPS request is being made to host 'www.trendyol.com'. Adding certificate verification is strongly advised. See: https://urllib3.readthedocs.io/en/1.26.x/advanced-usage.html#ssl-warnings\n",
      "  warnings.warn(\n",
      "C:\\Users\\abdulsamet.onay\\Anaconda3\\lib\\site-packages\\urllib3\\connectionpool.py:1013: InsecureRequestWarning: Unverified HTTPS request is being made to host 'www.trendyol.com'. Adding certificate verification is strongly advised. See: https://urllib3.readthedocs.io/en/1.26.x/advanced-usage.html#ssl-warnings\n",
      "  warnings.warn(\n",
      "C:\\Users\\abdulsamet.onay\\Anaconda3\\lib\\site-packages\\urllib3\\connectionpool.py:1013: InsecureRequestWarning: Unverified HTTPS request is being made to host 'www.trendyol.com'. Adding certificate verification is strongly advised. See: https://urllib3.readthedocs.io/en/1.26.x/advanced-usage.html#ssl-warnings\n",
      "  warnings.warn(\n",
      "C:\\Users\\abdulsamet.onay\\Anaconda3\\lib\\site-packages\\urllib3\\connectionpool.py:1013: InsecureRequestWarning: Unverified HTTPS request is being made to host 'www.trendyol.com'. Adding certificate verification is strongly advised. See: https://urllib3.readthedocs.io/en/1.26.x/advanced-usage.html#ssl-warnings\n",
      "  warnings.warn(\n",
      "C:\\Users\\abdulsamet.onay\\Anaconda3\\lib\\site-packages\\urllib3\\connectionpool.py:1013: InsecureRequestWarning: Unverified HTTPS request is being made to host 'www.trendyol.com'. Adding certificate verification is strongly advised. See: https://urllib3.readthedocs.io/en/1.26.x/advanced-usage.html#ssl-warnings\n",
      "  warnings.warn(\n",
      "C:\\Users\\abdulsamet.onay\\Anaconda3\\lib\\site-packages\\urllib3\\connectionpool.py:1013: InsecureRequestWarning: Unverified HTTPS request is being made to host 'www.trendyol.com'. Adding certificate verification is strongly advised. See: https://urllib3.readthedocs.io/en/1.26.x/advanced-usage.html#ssl-warnings\n",
      "  warnings.warn(\n",
      "C:\\Users\\abdulsamet.onay\\Anaconda3\\lib\\site-packages\\urllib3\\connectionpool.py:1013: InsecureRequestWarning: Unverified HTTPS request is being made to host 'www.trendyol.com'. Adding certificate verification is strongly advised. See: https://urllib3.readthedocs.io/en/1.26.x/advanced-usage.html#ssl-warnings\n",
      "  warnings.warn(\n",
      "C:\\Users\\abdulsamet.onay\\Anaconda3\\lib\\site-packages\\urllib3\\connectionpool.py:1013: InsecureRequestWarning: Unverified HTTPS request is being made to host 'www.trendyol.com'. Adding certificate verification is strongly advised. See: https://urllib3.readthedocs.io/en/1.26.x/advanced-usage.html#ssl-warnings\n",
      "  warnings.warn(\n",
      "C:\\Users\\abdulsamet.onay\\Anaconda3\\lib\\site-packages\\urllib3\\connectionpool.py:1013: InsecureRequestWarning: Unverified HTTPS request is being made to host 'www.trendyol.com'. Adding certificate verification is strongly advised. See: https://urllib3.readthedocs.io/en/1.26.x/advanced-usage.html#ssl-warnings\n",
      "  warnings.warn(\n",
      "C:\\Users\\abdulsamet.onay\\Anaconda3\\lib\\site-packages\\urllib3\\connectionpool.py:1013: InsecureRequestWarning: Unverified HTTPS request is being made to host 'www.trendyol.com'. Adding certificate verification is strongly advised. See: https://urllib3.readthedocs.io/en/1.26.x/advanced-usage.html#ssl-warnings\n",
      "  warnings.warn(\n",
      "C:\\Users\\abdulsamet.onay\\Anaconda3\\lib\\site-packages\\urllib3\\connectionpool.py:1013: InsecureRequestWarning: Unverified HTTPS request is being made to host 'www.trendyol.com'. Adding certificate verification is strongly advised. See: https://urllib3.readthedocs.io/en/1.26.x/advanced-usage.html#ssl-warnings\n",
      "  warnings.warn(\n",
      "C:\\Users\\abdulsamet.onay\\Anaconda3\\lib\\site-packages\\urllib3\\connectionpool.py:1013: InsecureRequestWarning: Unverified HTTPS request is being made to host 'www.trendyol.com'. Adding certificate verification is strongly advised. See: https://urllib3.readthedocs.io/en/1.26.x/advanced-usage.html#ssl-warnings\n",
      "  warnings.warn(\n",
      "C:\\Users\\abdulsamet.onay\\Anaconda3\\lib\\site-packages\\urllib3\\connectionpool.py:1013: InsecureRequestWarning: Unverified HTTPS request is being made to host 'www.trendyol.com'. Adding certificate verification is strongly advised. See: https://urllib3.readthedocs.io/en/1.26.x/advanced-usage.html#ssl-warnings\n",
      "  warnings.warn(\n",
      "C:\\Users\\abdulsamet.onay\\Anaconda3\\lib\\site-packages\\urllib3\\connectionpool.py:1013: InsecureRequestWarning: Unverified HTTPS request is being made to host 'www.trendyol.com'. Adding certificate verification is strongly advised. See: https://urllib3.readthedocs.io/en/1.26.x/advanced-usage.html#ssl-warnings\n",
      "  warnings.warn(\n",
      "C:\\Users\\abdulsamet.onay\\Anaconda3\\lib\\site-packages\\urllib3\\connectionpool.py:1013: InsecureRequestWarning: Unverified HTTPS request is being made to host 'www.trendyol.com'. Adding certificate verification is strongly advised. See: https://urllib3.readthedocs.io/en/1.26.x/advanced-usage.html#ssl-warnings\n",
      "  warnings.warn(\n",
      "C:\\Users\\abdulsamet.onay\\Anaconda3\\lib\\site-packages\\urllib3\\connectionpool.py:1013: InsecureRequestWarning: Unverified HTTPS request is being made to host 'www.trendyol.com'. Adding certificate verification is strongly advised. See: https://urllib3.readthedocs.io/en/1.26.x/advanced-usage.html#ssl-warnings\n",
      "  warnings.warn(\n",
      "C:\\Users\\abdulsamet.onay\\Anaconda3\\lib\\site-packages\\urllib3\\connectionpool.py:1013: InsecureRequestWarning: Unverified HTTPS request is being made to host 'www.trendyol.com'. Adding certificate verification is strongly advised. See: https://urllib3.readthedocs.io/en/1.26.x/advanced-usage.html#ssl-warnings\n",
      "  warnings.warn(\n"
     ]
    }
   ],
   "source": [
    "Title=[]\n",
    "Price=[]\n",
    "Rating=[]\n",
    "\n",
    "for products in link_list:\n",
    "    soup = getAndParseURL(products)\n",
    "    \n",
    "    #get title\n",
    "    #for withtitle in soup.find_all(\"span\",{\"class\":\"prdct-desc-cntnr-name hasRatings\"}):\n",
    "        #Title.append(withtitletitle.text)\n",
    "    for withouttitle in soup.find_all(\"span\",{\"class\":\"prdct-desc-cntnr-name\"}):\n",
    "        Title.append(withouttitle.text)\n",
    "    for price in soup.find_all(\"div\",{\"class\":\"prc-box-dscntd\"}):\n",
    "        Price.append(price.text)\n",
    "    for rate in soup.find_all(\"span\",{\"class\":\"ratingCount\"}):\n",
    "        Rating.append(rate.text)"
   ]
  },
  {
   "cell_type": "code",
   "execution_count": 58,
   "id": "6a368c6a",
   "metadata": {},
   "outputs": [
    {
     "data": {
      "text/plain": [
       "431"
      ]
     },
     "execution_count": 58,
     "metadata": {},
     "output_type": "execute_result"
    }
   ],
   "source": [
    "len(Price)"
   ]
  },
  {
   "cell_type": "code",
   "execution_count": 72,
   "id": "358fd557",
   "metadata": {},
   "outputs": [
    {
     "name": "stderr",
     "output_type": "stream",
     "text": [
      "C:\\Users\\abdulsamet.onay\\Anaconda3\\lib\\site-packages\\urllib3\\connectionpool.py:1013: InsecureRequestWarning: Unverified HTTPS request is being made to host 'www.trendyol.com'. Adding certificate verification is strongly advised. See: https://urllib3.readthedocs.io/en/1.26.x/advanced-usage.html#ssl-warnings\n",
      "  warnings.warn(\n",
      "C:\\Users\\abdulsamet.onay\\Anaconda3\\lib\\site-packages\\urllib3\\connectionpool.py:1013: InsecureRequestWarning: Unverified HTTPS request is being made to host 'www.trendyol.com'. Adding certificate verification is strongly advised. See: https://urllib3.readthedocs.io/en/1.26.x/advanced-usage.html#ssl-warnings\n",
      "  warnings.warn(\n",
      "C:\\Users\\abdulsamet.onay\\Anaconda3\\lib\\site-packages\\urllib3\\connectionpool.py:1013: InsecureRequestWarning: Unverified HTTPS request is being made to host 'www.trendyol.com'. Adding certificate verification is strongly advised. See: https://urllib3.readthedocs.io/en/1.26.x/advanced-usage.html#ssl-warnings\n",
      "  warnings.warn(\n",
      "C:\\Users\\abdulsamet.onay\\Anaconda3\\lib\\site-packages\\urllib3\\connectionpool.py:1013: InsecureRequestWarning: Unverified HTTPS request is being made to host 'www.trendyol.com'. Adding certificate verification is strongly advised. See: https://urllib3.readthedocs.io/en/1.26.x/advanced-usage.html#ssl-warnings\n",
      "  warnings.warn(\n",
      "C:\\Users\\abdulsamet.onay\\Anaconda3\\lib\\site-packages\\urllib3\\connectionpool.py:1013: InsecureRequestWarning: Unverified HTTPS request is being made to host 'www.trendyol.com'. Adding certificate verification is strongly advised. See: https://urllib3.readthedocs.io/en/1.26.x/advanced-usage.html#ssl-warnings\n",
      "  warnings.warn(\n",
      "C:\\Users\\abdulsamet.onay\\Anaconda3\\lib\\site-packages\\urllib3\\connectionpool.py:1013: InsecureRequestWarning: Unverified HTTPS request is being made to host 'www.trendyol.com'. Adding certificate verification is strongly advised. See: https://urllib3.readthedocs.io/en/1.26.x/advanced-usage.html#ssl-warnings\n",
      "  warnings.warn(\n",
      "C:\\Users\\abdulsamet.onay\\Anaconda3\\lib\\site-packages\\urllib3\\connectionpool.py:1013: InsecureRequestWarning: Unverified HTTPS request is being made to host 'www.trendyol.com'. Adding certificate verification is strongly advised. See: https://urllib3.readthedocs.io/en/1.26.x/advanced-usage.html#ssl-warnings\n",
      "  warnings.warn(\n",
      "C:\\Users\\abdulsamet.onay\\Anaconda3\\lib\\site-packages\\urllib3\\connectionpool.py:1013: InsecureRequestWarning: Unverified HTTPS request is being made to host 'www.trendyol.com'. Adding certificate verification is strongly advised. See: https://urllib3.readthedocs.io/en/1.26.x/advanced-usage.html#ssl-warnings\n",
      "  warnings.warn(\n",
      "C:\\Users\\abdulsamet.onay\\Anaconda3\\lib\\site-packages\\urllib3\\connectionpool.py:1013: InsecureRequestWarning: Unverified HTTPS request is being made to host 'www.trendyol.com'. Adding certificate verification is strongly advised. See: https://urllib3.readthedocs.io/en/1.26.x/advanced-usage.html#ssl-warnings\n",
      "  warnings.warn(\n",
      "C:\\Users\\abdulsamet.onay\\Anaconda3\\lib\\site-packages\\urllib3\\connectionpool.py:1013: InsecureRequestWarning: Unverified HTTPS request is being made to host 'www.trendyol.com'. Adding certificate verification is strongly advised. See: https://urllib3.readthedocs.io/en/1.26.x/advanced-usage.html#ssl-warnings\n",
      "  warnings.warn(\n",
      "C:\\Users\\abdulsamet.onay\\Anaconda3\\lib\\site-packages\\urllib3\\connectionpool.py:1013: InsecureRequestWarning: Unverified HTTPS request is being made to host 'www.trendyol.com'. Adding certificate verification is strongly advised. See: https://urllib3.readthedocs.io/en/1.26.x/advanced-usage.html#ssl-warnings\n",
      "  warnings.warn(\n",
      "C:\\Users\\abdulsamet.onay\\Anaconda3\\lib\\site-packages\\urllib3\\connectionpool.py:1013: InsecureRequestWarning: Unverified HTTPS request is being made to host 'www.trendyol.com'. Adding certificate verification is strongly advised. See: https://urllib3.readthedocs.io/en/1.26.x/advanced-usage.html#ssl-warnings\n",
      "  warnings.warn(\n",
      "C:\\Users\\abdulsamet.onay\\Anaconda3\\lib\\site-packages\\urllib3\\connectionpool.py:1013: InsecureRequestWarning: Unverified HTTPS request is being made to host 'www.trendyol.com'. Adding certificate verification is strongly advised. See: https://urllib3.readthedocs.io/en/1.26.x/advanced-usage.html#ssl-warnings\n",
      "  warnings.warn(\n",
      "C:\\Users\\abdulsamet.onay\\Anaconda3\\lib\\site-packages\\urllib3\\connectionpool.py:1013: InsecureRequestWarning: Unverified HTTPS request is being made to host 'www.trendyol.com'. Adding certificate verification is strongly advised. See: https://urllib3.readthedocs.io/en/1.26.x/advanced-usage.html#ssl-warnings\n",
      "  warnings.warn(\n",
      "C:\\Users\\abdulsamet.onay\\Anaconda3\\lib\\site-packages\\urllib3\\connectionpool.py:1013: InsecureRequestWarning: Unverified HTTPS request is being made to host 'www.trendyol.com'. Adding certificate verification is strongly advised. See: https://urllib3.readthedocs.io/en/1.26.x/advanced-usage.html#ssl-warnings\n",
      "  warnings.warn(\n",
      "C:\\Users\\abdulsamet.onay\\Anaconda3\\lib\\site-packages\\urllib3\\connectionpool.py:1013: InsecureRequestWarning: Unverified HTTPS request is being made to host 'www.trendyol.com'. Adding certificate verification is strongly advised. See: https://urllib3.readthedocs.io/en/1.26.x/advanced-usage.html#ssl-warnings\n",
      "  warnings.warn(\n",
      "C:\\Users\\abdulsamet.onay\\Anaconda3\\lib\\site-packages\\urllib3\\connectionpool.py:1013: InsecureRequestWarning: Unverified HTTPS request is being made to host 'www.trendyol.com'. Adding certificate verification is strongly advised. See: https://urllib3.readthedocs.io/en/1.26.x/advanced-usage.html#ssl-warnings\n",
      "  warnings.warn(\n",
      "C:\\Users\\abdulsamet.onay\\Anaconda3\\lib\\site-packages\\urllib3\\connectionpool.py:1013: InsecureRequestWarning: Unverified HTTPS request is being made to host 'www.trendyol.com'. Adding certificate verification is strongly advised. See: https://urllib3.readthedocs.io/en/1.26.x/advanced-usage.html#ssl-warnings\n",
      "  warnings.warn(\n"
     ]
    }
   ],
   "source": [
    "Rating=[]\n",
    "for products in link_list:\n",
    "    soup = getAndParseURL(products)\n",
    "    for rate in soup.find_all(\"div\",{\"class\":\"ratings-container\"}):\n",
    "        try:\n",
    "            Rating.append(rate.div.span.text)\n",
    "        except:\n",
    "            Rating.append(\"0\")"
   ]
  },
  {
   "cell_type": "code",
   "execution_count": 73,
   "id": "f5538552",
   "metadata": {},
   "outputs": [
    {
     "data": {
      "text/plain": [
       "431"
      ]
     },
     "execution_count": 73,
     "metadata": {},
     "output_type": "execute_result"
    }
   ],
   "source": [
    "len(Rating)"
   ]
  },
  {
   "cell_type": "code",
   "execution_count": 74,
   "id": "ba0e3e28",
   "metadata": {},
   "outputs": [
    {
     "data": {
      "text/plain": [
       "['(765)',\n",
       " '(209)',\n",
       " '(251)',\n",
       " '(4854)',\n",
       " '(869)',\n",
       " '(1122)',\n",
       " '(262)',\n",
       " '(2051)',\n",
       " '(1937)',\n",
       " '(652)',\n",
       " '(44)',\n",
       " '(4018)',\n",
       " '(1125)',\n",
       " '(5098)',\n",
       " '(427)',\n",
       " '(150)',\n",
       " '(659)',\n",
       " '(78)',\n",
       " '(809)',\n",
       " '(690)',\n",
       " '(165)',\n",
       " '(913)',\n",
       " '(277)',\n",
       " '(215)',\n",
       " '(8)',\n",
       " '(19)',\n",
       " '(3)',\n",
       " '(2)',\n",
       " '(5)',\n",
       " '(241)',\n",
       " '(325)',\n",
       " '(162)',\n",
       " '(6)',\n",
       " '(4)',\n",
       " '(86)',\n",
       " '(139)',\n",
       " '(33)',\n",
       " '(175)',\n",
       " '(63)',\n",
       " '(754)',\n",
       " '(1)',\n",
       " '(143)',\n",
       " '(293)',\n",
       " '(8)',\n",
       " '(16)',\n",
       " '0',\n",
       " '(65)',\n",
       " '(54)',\n",
       " '(116)',\n",
       " '(21)',\n",
       " '(162)',\n",
       " '0',\n",
       " '(6)',\n",
       " '(1)',\n",
       " '(21)',\n",
       " '(395)',\n",
       " '(25)',\n",
       " '(15)',\n",
       " '(2979)',\n",
       " '0',\n",
       " '(73)',\n",
       " '(44)',\n",
       " '(32)',\n",
       " '(399)',\n",
       " '(207)',\n",
       " '(3)',\n",
       " '(360)',\n",
       " '(1)',\n",
       " '(31)',\n",
       " '(6)',\n",
       " '(255)',\n",
       " '(257)',\n",
       " '(64)',\n",
       " '(18)',\n",
       " '(1)',\n",
       " '(2)',\n",
       " '(539)',\n",
       " '(10)',\n",
       " '(122)',\n",
       " '(97)',\n",
       " '(5)',\n",
       " '(6)',\n",
       " '(3)',\n",
       " '(18)',\n",
       " '(1)',\n",
       " '(4)',\n",
       " '(404)',\n",
       " '(2)',\n",
       " '(72)',\n",
       " '(142)',\n",
       " '(1)',\n",
       " '(3)',\n",
       " '0',\n",
       " '(179)',\n",
       " '(34)',\n",
       " '(7)',\n",
       " '(49)',\n",
       " '(661)',\n",
       " '(2)',\n",
       " '(2)',\n",
       " '(4)',\n",
       " '0',\n",
       " '0',\n",
       " '(1)',\n",
       " '0',\n",
       " '0',\n",
       " '(24)',\n",
       " '(74)',\n",
       " '(4)',\n",
       " '0',\n",
       " '(47)',\n",
       " '(1)',\n",
       " '0',\n",
       " '(85)',\n",
       " '0',\n",
       " '(37)',\n",
       " '(7)',\n",
       " '(131)',\n",
       " '(17)',\n",
       " '(1)',\n",
       " '(144)',\n",
       " '(2)',\n",
       " '(53)',\n",
       " '(113)',\n",
       " '0',\n",
       " '(51)',\n",
       " '0',\n",
       " '(1)',\n",
       " '(10)',\n",
       " '0',\n",
       " '0',\n",
       " '(24)',\n",
       " '(331)',\n",
       " '(27)',\n",
       " '(13)',\n",
       " '(194)',\n",
       " '(14)',\n",
       " '(2)',\n",
       " '0',\n",
       " '0',\n",
       " '(2971)',\n",
       " '(1)',\n",
       " '(20)',\n",
       " '0',\n",
       " '(77)',\n",
       " '(273)',\n",
       " '(163)',\n",
       " '(54)',\n",
       " '(74)',\n",
       " '(185)',\n",
       " '(32)',\n",
       " '(18)',\n",
       " '(3)',\n",
       " '(11)',\n",
       " '(10)',\n",
       " '(2)',\n",
       " '(17)',\n",
       " '0',\n",
       " '(6)',\n",
       " '(9)',\n",
       " '(2)',\n",
       " '(2)',\n",
       " '(17)',\n",
       " '0',\n",
       " '(5)',\n",
       " '(9)',\n",
       " '0',\n",
       " '(8)',\n",
       " '0',\n",
       " '(8)',\n",
       " '(28)',\n",
       " '0',\n",
       " '0',\n",
       " '(1)',\n",
       " '0',\n",
       " '(1)',\n",
       " '0',\n",
       " '(20)',\n",
       " '0',\n",
       " '(23)',\n",
       " '(10)',\n",
       " '0',\n",
       " '0',\n",
       " '(11)',\n",
       " '0',\n",
       " '0',\n",
       " '(106)',\n",
       " '(18)',\n",
       " '(1)',\n",
       " '0',\n",
       " '(1097)',\n",
       " '(5)',\n",
       " '0',\n",
       " '(1090)',\n",
       " '0',\n",
       " '(2)',\n",
       " '(1)',\n",
       " '0',\n",
       " '(2)',\n",
       " '(10)',\n",
       " '0',\n",
       " '(25)',\n",
       " '0',\n",
       " '(8)',\n",
       " '0',\n",
       " '(10)',\n",
       " '(16)',\n",
       " '(66)',\n",
       " '(23)',\n",
       " '(80)',\n",
       " '0',\n",
       " '(1)',\n",
       " '0',\n",
       " '0',\n",
       " '(1)',\n",
       " '(21)',\n",
       " '(10)',\n",
       " '0',\n",
       " '(1318)',\n",
       " '(88)',\n",
       " '(1)',\n",
       " '(86)',\n",
       " '(2)',\n",
       " '(3)',\n",
       " '0',\n",
       " '(4)',\n",
       " '(10)',\n",
       " '0',\n",
       " '(9)',\n",
       " '(20)',\n",
       " '(28)',\n",
       " '0',\n",
       " '0',\n",
       " '0',\n",
       " '(7)',\n",
       " '(3)',\n",
       " '(848)',\n",
       " '(9)',\n",
       " '(14)',\n",
       " '(6)',\n",
       " '(14)',\n",
       " '(6)',\n",
       " '0',\n",
       " '(585)',\n",
       " '(1)',\n",
       " '(661)',\n",
       " '(20)',\n",
       " '(5)',\n",
       " '(3)',\n",
       " '(393)',\n",
       " '(1)',\n",
       " '0',\n",
       " '(9)',\n",
       " '(1)',\n",
       " '0',\n",
       " '0',\n",
       " '(276)',\n",
       " '(472)',\n",
       " '(129)',\n",
       " '(9)',\n",
       " '0',\n",
       " '(7)',\n",
       " '(123)',\n",
       " '(3)',\n",
       " '(473)',\n",
       " '0',\n",
       " '0',\n",
       " '(1)',\n",
       " '0',\n",
       " '(4)',\n",
       " '(1)',\n",
       " '0',\n",
       " '(4)',\n",
       " '0',\n",
       " '0',\n",
       " '0',\n",
       " '(12)',\n",
       " '0',\n",
       " '0',\n",
       " '0',\n",
       " '0',\n",
       " '(1)',\n",
       " '(4)',\n",
       " '0',\n",
       " '(4)',\n",
       " '(1)',\n",
       " '0',\n",
       " '(1)',\n",
       " '0',\n",
       " '0',\n",
       " '(1)',\n",
       " '0',\n",
       " '(2)',\n",
       " '(3)',\n",
       " '(11)',\n",
       " '(13)',\n",
       " '(3)',\n",
       " '0',\n",
       " '(2)',\n",
       " '0',\n",
       " '(5)',\n",
       " '(1)',\n",
       " '(12)',\n",
       " '(9)',\n",
       " '(12)',\n",
       " '(1)',\n",
       " '0',\n",
       " '(18)',\n",
       " '0',\n",
       " '0',\n",
       " '0',\n",
       " '0',\n",
       " '0',\n",
       " '0',\n",
       " '0',\n",
       " '0',\n",
       " '0',\n",
       " '0',\n",
       " '(1)',\n",
       " '(1)',\n",
       " '0',\n",
       " '0',\n",
       " '0',\n",
       " '0',\n",
       " '(7)',\n",
       " '(6)',\n",
       " '0',\n",
       " '0',\n",
       " '0',\n",
       " '0',\n",
       " '0',\n",
       " '0',\n",
       " '(1)',\n",
       " '0',\n",
       " '0',\n",
       " '(2)',\n",
       " '0',\n",
       " '0',\n",
       " '(2)',\n",
       " '0',\n",
       " '0',\n",
       " '0',\n",
       " '0',\n",
       " '0',\n",
       " '0',\n",
       " '0',\n",
       " '(12)',\n",
       " '0',\n",
       " '0',\n",
       " '(4)',\n",
       " '(1)',\n",
       " '0',\n",
       " '(2)',\n",
       " '(3)',\n",
       " '(2)',\n",
       " '0',\n",
       " '0',\n",
       " '0',\n",
       " '0',\n",
       " '0',\n",
       " '0',\n",
       " '(2)',\n",
       " '0',\n",
       " '(12)',\n",
       " '0',\n",
       " '0',\n",
       " '0',\n",
       " '(1)',\n",
       " '0',\n",
       " '0',\n",
       " '0',\n",
       " '0',\n",
       " '0',\n",
       " '0',\n",
       " '0',\n",
       " '(2)',\n",
       " '0',\n",
       " '0',\n",
       " '(1)',\n",
       " '0',\n",
       " '(2)',\n",
       " '0',\n",
       " '0',\n",
       " '(1)',\n",
       " '0',\n",
       " '0',\n",
       " '0',\n",
       " '0',\n",
       " '0',\n",
       " '0',\n",
       " '0',\n",
       " '0',\n",
       " '0',\n",
       " '0',\n",
       " '0',\n",
       " '0',\n",
       " '(2)',\n",
       " '0',\n",
       " '(1)',\n",
       " '0',\n",
       " '0',\n",
       " '0',\n",
       " '0',\n",
       " '0',\n",
       " '0',\n",
       " '0',\n",
       " '0',\n",
       " '0',\n",
       " '0',\n",
       " '0',\n",
       " '0',\n",
       " '(1)',\n",
       " '0',\n",
       " '0',\n",
       " '(1)',\n",
       " '0',\n",
       " '0',\n",
       " '0',\n",
       " '0',\n",
       " '(2)',\n",
       " '0',\n",
       " '0',\n",
       " '(11)',\n",
       " '(3)',\n",
       " '(1)',\n",
       " '0',\n",
       " '(1)',\n",
       " '(1)',\n",
       " '(324)',\n",
       " '(106)',\n",
       " '(7294)']"
      ]
     },
     "execution_count": 74,
     "metadata": {},
     "output_type": "execute_result"
    }
   ],
   "source": [
    "Rating"
   ]
  },
  {
   "cell_type": "code",
   "execution_count": 75,
   "id": "4af1c791",
   "metadata": {},
   "outputs": [],
   "source": [
    "import pandas as pd"
   ]
  },
  {
   "cell_type": "code",
   "execution_count": 76,
   "id": "6afc75bc",
   "metadata": {},
   "outputs": [],
   "source": [
    "df=pd.DataFrame(list(zip(Title,Price,Rating)),\n",
    "              columns=['Title','Price', 'Rating'])"
   ]
  },
  {
   "cell_type": "code",
   "execution_count": 83,
   "id": "8e13b589",
   "metadata": {},
   "outputs": [
    {
     "data": {
      "text/html": [
       "<div>\n",
       "<style scoped>\n",
       "    .dataframe tbody tr th:only-of-type {\n",
       "        vertical-align: middle;\n",
       "    }\n",
       "\n",
       "    .dataframe tbody tr th {\n",
       "        vertical-align: top;\n",
       "    }\n",
       "\n",
       "    .dataframe thead th {\n",
       "        text-align: right;\n",
       "    }\n",
       "</style>\n",
       "<table border=\"1\" class=\"dataframe\">\n",
       "  <thead>\n",
       "    <tr style=\"text-align: right;\">\n",
       "      <th></th>\n",
       "      <th>Title</th>\n",
       "      <th>Price</th>\n",
       "      <th>Rating</th>\n",
       "    </tr>\n",
       "  </thead>\n",
       "  <tbody>\n",
       "    <tr>\n",
       "      <th>0</th>\n",
       "      <td>iPhone 11 64 GB Kırmızı Cep Telefonu Aksesuars...</td>\n",
       "      <td>14.999 TL</td>\n",
       "      <td>(765)</td>\n",
       "    </tr>\n",
       "    <tr>\n",
       "      <th>1</th>\n",
       "      <td>iPhone 13 Pro 128 GB Gümüş Cep Telefonu (Apple...</td>\n",
       "      <td>32.499 TL</td>\n",
       "      <td>(209)</td>\n",
       "    </tr>\n",
       "    <tr>\n",
       "      <th>2</th>\n",
       "      <td>iPhone 13 Pro Max 128 GB Kurşun Gri Cep Telefo...</td>\n",
       "      <td>39.150,02 TL</td>\n",
       "      <td>(251)</td>\n",
       "    </tr>\n",
       "    <tr>\n",
       "      <th>3</th>\n",
       "      <td>iPhone 13 128 GB Mavi Cep Telefonu (Apple Türk...</td>\n",
       "      <td>25.725 TL</td>\n",
       "      <td>(4854)</td>\n",
       "    </tr>\n",
       "    <tr>\n",
       "      <th>4</th>\n",
       "      <td>iPhone SE 64 GB Siyah Cep Telefonu Aksesuarsız...</td>\n",
       "      <td>12.998,99 TL</td>\n",
       "      <td>(869)</td>\n",
       "    </tr>\n",
       "    <tr>\n",
       "      <th>...</th>\n",
       "      <td>...</td>\n",
       "      <td>...</td>\n",
       "      <td>...</td>\n",
       "    </tr>\n",
       "    <tr>\n",
       "      <th>91</th>\n",
       "      <td>iPhone 14 Pro Max 128GB Uzay Siyahı</td>\n",
       "      <td>52.489 TL</td>\n",
       "      <td>(3)</td>\n",
       "    </tr>\n",
       "    <tr>\n",
       "      <th>92</th>\n",
       "      <td>iPhone 13 Pro Max 128 GB Yeşil Cep Telefonu (A...</td>\n",
       "      <td>39.895 TL</td>\n",
       "      <td>0</td>\n",
       "    </tr>\n",
       "    <tr>\n",
       "      <th>93</th>\n",
       "      <td>iPhone 14 128GB Gece Yarısı</td>\n",
       "      <td>30.999 TL</td>\n",
       "      <td>(179)</td>\n",
       "    </tr>\n",
       "    <tr>\n",
       "      <th>94</th>\n",
       "      <td>iPhone 13 Pro 512GB Yeşil Cep Telefonu (Apple ...</td>\n",
       "      <td>35.499 TL</td>\n",
       "      <td>(34)</td>\n",
       "    </tr>\n",
       "    <tr>\n",
       "      <th>95</th>\n",
       "      <td>iPhone 13 Pro Max 1TB Kurşun Gri Cep Telefonu ...</td>\n",
       "      <td>40.999 TL</td>\n",
       "      <td>(7)</td>\n",
       "    </tr>\n",
       "  </tbody>\n",
       "</table>\n",
       "<p>96 rows × 3 columns</p>\n",
       "</div>"
      ],
      "text/plain": [
       "                                                Title         Price  Rating\n",
       "0   iPhone 11 64 GB Kırmızı Cep Telefonu Aksesuars...     14.999 TL   (765)\n",
       "1   iPhone 13 Pro 128 GB Gümüş Cep Telefonu (Apple...     32.499 TL   (209)\n",
       "2   iPhone 13 Pro Max 128 GB Kurşun Gri Cep Telefo...  39.150,02 TL   (251)\n",
       "3   iPhone 13 128 GB Mavi Cep Telefonu (Apple Türk...     25.725 TL  (4854)\n",
       "4   iPhone SE 64 GB Siyah Cep Telefonu Aksesuarsız...  12.998,99 TL   (869)\n",
       "..                                                ...           ...     ...\n",
       "91                iPhone 14 Pro Max 128GB Uzay Siyahı     52.489 TL     (3)\n",
       "92  iPhone 13 Pro Max 128 GB Yeşil Cep Telefonu (A...     39.895 TL       0\n",
       "93                        iPhone 14 128GB Gece Yarısı     30.999 TL   (179)\n",
       "94  iPhone 13 Pro 512GB Yeşil Cep Telefonu (Apple ...     35.499 TL    (34)\n",
       "95  iPhone 13 Pro Max 1TB Kurşun Gri Cep Telefonu ...     40.999 TL     (7)\n",
       "\n",
       "[96 rows x 3 columns]"
      ]
     },
     "execution_count": 83,
     "metadata": {},
     "output_type": "execute_result"
    }
   ],
   "source": [
    "df.head(96)"
   ]
  },
  {
   "cell_type": "code",
   "execution_count": null,
   "id": "59fbe451",
   "metadata": {},
   "outputs": [],
   "source": []
  }
 ],
 "metadata": {
  "kernelspec": {
   "display_name": "Python 3 (ipykernel)",
   "language": "python",
   "name": "python3"
  },
  "language_info": {
   "codemirror_mode": {
    "name": "ipython",
    "version": 3
   },
   "file_extension": ".py",
   "mimetype": "text/x-python",
   "name": "python",
   "nbconvert_exporter": "python",
   "pygments_lexer": "ipython3",
   "version": "3.9.7"
  }
 },
 "nbformat": 4,
 "nbformat_minor": 5
}
